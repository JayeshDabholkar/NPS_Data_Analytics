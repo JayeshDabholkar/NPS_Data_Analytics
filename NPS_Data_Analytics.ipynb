{
  "nbformat": 4,
  "nbformat_minor": 0,
  "metadata": {
    "colab": {
      "provenance": [],
      "authorship_tag": "ABX9TyNpv/KljIIyBejCwBeWzbKF",
      "include_colab_link": true
    },
    "kernelspec": {
      "name": "python3",
      "display_name": "Python 3"
    },
    "language_info": {
      "name": "python"
    }
  },
  "cells": [
    {
      "cell_type": "markdown",
      "metadata": {
        "id": "view-in-github",
        "colab_type": "text"
      },
      "source": [
        "<a href=\"https://colab.research.google.com/github/JayeshDabholkar/NPS_Data_Analytics/blob/main/NPS_Data_Analytics.ipynb\" target=\"_parent\"><img src=\"https://colab.research.google.com/assets/colab-badge.svg\" alt=\"Open In Colab\"/></a>"
      ]
    },
    {
      "cell_type": "code",
      "source": [
        "#NPS - Net Promoter Score"
      ],
      "metadata": {
        "id": "qjFE1aiiuTg_"
      },
      "execution_count": null,
      "outputs": []
    },
    {
      "cell_type": "markdown",
      "source": [
        "<img src=\"https://drive.google.com/uc?id=1-u8e-v_90JdikorKsKzBM-JJqoRtzsN8\">\n"
      ],
      "metadata": {
        "id": "N-RekJQqrlFG"
      }
    },
    {
      "cell_type": "code",
      "source": [
        "#NPS - Net Promoter Score"
      ],
      "metadata": {
        "id": "XXnjRkQjratU"
      },
      "execution_count": null,
      "outputs": []
    },
    {
      "cell_type": "markdown",
      "source": [
        "<img src=\"https://drive.google.com/uc?id=1KPIYlaN68vlL99iApaF5QbeBoyT24-Eu\">\n"
      ],
      "metadata": {
        "id": "qaZolt_jr04B"
      }
    },
    {
      "cell_type": "markdown",
      "source": [
        "NPS Case Study\n",
        "\n",
        "https://drive.google.com/uc?id=1c0ClC8SrPwJq5rrkyMKyPn80nyHcFikK\n",
        "\n",
        "Dataset link"
      ],
      "metadata": {
        "id": "VcX6lY_mzOWD"
      }
    },
    {
      "cell_type": "code",
      "source": [
        "!gdown 1c0ClC8SrPwJq5rrkyMKyPn80nyHcFikK"
      ],
      "metadata": {
        "colab": {
          "base_uri": "https://localhost:8080/"
        },
        "id": "DkfVRuz8vlrc",
        "outputId": "0511c22a-b8af-4f06-befa-cadc0399960f"
      },
      "execution_count": 2,
      "outputs": [
        {
          "output_type": "stream",
          "name": "stdout",
          "text": [
            "Downloading...\n",
            "From: https://drive.google.com/uc?id=1c0ClC8SrPwJq5rrkyMKyPn80nyHcFikK\n",
            "To: /content/survey.txt\n",
            "\r  0% 0.00/2.55k [00:00<?, ?B/s]\r100% 2.55k/2.55k [00:00<00:00, 3.12MB/s]\n"
          ]
        }
      ]
    },
    {
      "cell_type": "code",
      "source": [
        "!ls"
      ],
      "metadata": {
        "colab": {
          "base_uri": "https://localhost:8080/"
        },
        "id": "Vwihtw9pvnsS",
        "outputId": "05d341e8-194c-40a2-c27c-e2ab1dee5638"
      },
      "execution_count": 3,
      "outputs": [
        {
          "output_type": "stream",
          "name": "stdout",
          "text": [
            "sample_data  survey.txt\n"
          ]
        }
      ]
    },
    {
      "cell_type": "code",
      "source": [
        "scores = np.loadtxt('survey.txt')\n",
        "scores"
      ],
      "metadata": {
        "colab": {
          "base_uri": "https://localhost:8080/"
        },
        "id": "2rnRPv-2vwCt",
        "outputId": "04685e3e-ec06-4274-9758-bd5355330411"
      },
      "execution_count": 6,
      "outputs": [
        {
          "output_type": "execute_result",
          "data": {
            "text/plain": [
              "array([ 7., 10.,  5., ...,  5.,  9., 10.])"
            ]
          },
          "metadata": {},
          "execution_count": 6
        }
      ]
    },
    {
      "cell_type": "code",
      "source": [
        "scores.mean()"
      ],
      "metadata": {
        "colab": {
          "base_uri": "https://localhost:8080/"
        },
        "id": "-zjIF07Ov6qp",
        "outputId": "f2ca7953-9fce-455c-ddb0-b3bdc1484bc6"
      },
      "execution_count": 8,
      "outputs": [
        {
          "output_type": "execute_result",
          "data": {
            "text/plain": [
              "7.250214224507284"
            ]
          },
          "metadata": {},
          "execution_count": 8
        }
      ]
    },
    {
      "cell_type": "code",
      "source": [
        "import numpy as np"
      ],
      "metadata": {
        "id": "Zxp50G8Yu_x6"
      },
      "execution_count": 1,
      "outputs": []
    },
    {
      "cell_type": "code",
      "source": [
        "#Promoters\n",
        "\n",
        "promoters_scores = scores[ scores > 8 ]\n",
        "promoters_scores"
      ],
      "metadata": {
        "colab": {
          "base_uri": "https://localhost:8080/"
        },
        "id": "p7i68tu0wF7S",
        "outputId": "ad06cf80-a1be-4666-f789-e3a2626be74a"
      },
      "execution_count": 9,
      "outputs": [
        {
          "output_type": "execute_result",
          "data": {
            "text/plain": [
              "array([10.,  9.,  9.,  9.,  9.,  9., 10.,  9.,  9., 10.,  9.,  9.,  9.,\n",
              "        9.,  9.,  9.,  9., 10., 10.,  9., 10.,  9., 10.,  9.,  9., 10.,\n",
              "       10.,  9., 10.,  9., 10., 10., 10.,  9.,  9., 10., 10., 10.,  9.,\n",
              "       10.,  9., 10.,  9.,  9.,  9., 10.,  9.,  9.,  9.,  9.,  9.,  9.,\n",
              "       10.,  9.,  9.,  9., 10.,  9., 10.,  9.,  9.,  9.,  9.,  9., 10.,\n",
              "       10.,  9., 10.,  9.,  9., 10.,  9.,  9., 10.,  9.,  9.,  9.,  9.,\n",
              "        9.,  9.,  9.,  9.,  9.,  9.,  9., 10.,  9.,  9.,  9.,  9.,  9.,\n",
              "        9.,  9.,  9., 10.,  9.,  9.,  9.,  9.,  9., 10., 10.,  9., 10.,\n",
              "       10., 10., 10.,  9., 10.,  9.,  9.,  9.,  9.,  9.,  9.,  9., 10.,\n",
              "        9., 10.,  9., 10.,  9., 10., 10., 10.,  9.,  9., 10., 10.,  9.,\n",
              "        9.,  9.,  9., 10.,  9.,  9.,  9.,  9., 10., 10.,  9.,  9.,  9.,\n",
              "       10.,  9.,  9.,  9.,  9.,  9., 10.,  9.,  9.,  9., 10.,  9., 10.,\n",
              "       10.,  9.,  9.,  9.,  9., 10.,  9., 10.,  9.,  9.,  9.,  9., 10.,\n",
              "        9., 10.,  9.,  9.,  9.,  9.,  9.,  9.,  9.,  9.,  9.,  9.,  9.,\n",
              "       10., 10.,  9.,  9.,  9., 10.,  9., 10., 10., 10., 10., 10.,  9.,\n",
              "        9.,  9.,  9., 10., 10., 10.,  9.,  9., 10.,  9., 10., 10., 10.,\n",
              "       10.,  9., 10., 10.,  9., 10.,  9.,  9.,  9.,  9., 10.,  9., 10.,\n",
              "        9., 10.,  9.,  9.,  9.,  9., 10.,  9.,  9.,  9.,  9.,  9., 10.,\n",
              "        9., 10., 10.,  9., 10., 10., 10.,  9.,  9.,  9.,  9.,  9.,  9.,\n",
              "       10.,  9.,  9., 10.,  9., 10., 10.,  9.,  9.,  9., 10., 10., 10.,\n",
              "       10.,  9.,  9.,  9., 10., 10.,  9., 10.,  9.,  9.,  9., 10.,  9.,\n",
              "        9.,  9.,  9.,  9.,  9.,  9.,  9.,  9.,  9., 10.,  9.,  9.,  9.,\n",
              "       10.,  9., 10.,  9., 10.,  9., 10.,  9.,  9., 10., 10.,  9.,  9.,\n",
              "        9., 10.,  9.,  9., 10.,  9.,  9.,  9.,  9.,  9.,  9., 10., 10.,\n",
              "        9., 10.,  9.,  9.,  9.,  9., 10.,  9.,  9.,  9.,  9., 10.,  9.,\n",
              "       10.,  9., 10.,  9., 10., 10.,  9., 10., 10.,  9., 10.,  9.,  9.,\n",
              "        9.,  9.,  9., 10.,  9., 10., 10.,  9., 10., 10.,  9.,  9., 10.,\n",
              "        9., 10., 10.,  9., 10., 10., 10.,  9.,  9.,  9., 10.,  9.,  9.,\n",
              "        9., 10.,  9.,  9.,  9.,  9.,  9., 10.,  9.,  9.,  9., 10.,  9.,\n",
              "        9.,  9.,  9.,  9., 10.,  9., 10.,  9.,  9., 10.,  9.,  9.,  9.,\n",
              "        9.,  9.,  9., 10.,  9.,  9.,  9.,  9.,  9.,  9.,  9.,  9.,  9.,\n",
              "        9., 10.,  9., 10.,  9.,  9.,  9.,  9.,  9.,  9.,  9.,  9.,  9.,\n",
              "        9.,  9.,  9.,  9.,  9., 10., 10.,  9.,  9.,  9.,  9., 10.,  9.,\n",
              "       10.,  9., 10., 10.,  9.,  9., 10.,  9., 10., 10., 10.,  9.,  9.,\n",
              "        9., 10., 10.,  9.,  9.,  9., 10.,  9.,  9.,  9.,  9., 10.,  9.,\n",
              "       10.,  9.,  9., 10.,  9.,  9.,  9., 10.,  9.,  9.,  9.,  9., 10.,\n",
              "        9.,  9.,  9.,  9.,  9.,  9., 10.,  9., 10., 10.,  9.,  9.,  9.,\n",
              "       10., 10., 10., 10.,  9.,  9., 10., 10.,  9., 10.,  9., 10.,  9.,\n",
              "       10.,  9.,  9., 10.,  9., 10., 10.,  9.,  9.,  9.,  9.,  9.,  9.,\n",
              "        9.,  9.,  9.,  9.,  9.,  9.,  9.,  9.,  9.,  9.,  9.,  9.,  9.,\n",
              "        9.,  9.,  9.,  9.,  9.,  9.,  9., 10., 10.,  9.,  9.,  9.,  9.,\n",
              "       10., 10.,  9., 10., 10.,  9., 10., 10.,  9., 10., 10., 10.,  9.,\n",
              "        9., 10., 10., 10.,  9.,  9., 10., 10.,  9.,  9.,  9.,  9.,  9.,\n",
              "        9., 10., 10., 10., 10., 10., 10.,  9.,  9.,  9.,  9., 10., 10.,\n",
              "        9.,  9.,  9.,  9.,  9., 10., 10.,  9., 10., 10.,  9., 10., 10.,\n",
              "        9., 10., 10.,  9., 10.,  9., 10., 10.,  9., 10., 10.,  9.,  9.,\n",
              "        9.,  9., 10.,  9.,  9., 10., 10., 10., 10.,  9., 10.])"
            ]
          },
          "metadata": {},
          "execution_count": 9
        }
      ]
    },
    {
      "cell_type": "code",
      "source": [
        "#Detractors\n",
        "\n",
        "detractors_scores = scores[ scores < 7 ]\n",
        "detractors_scores"
      ],
      "metadata": {
        "colab": {
          "base_uri": "https://localhost:8080/"
        },
        "id": "gXQ8JnnPwOGe",
        "outputId": "2227027a-9c44-4fce-d20e-d96af437555b"
      },
      "execution_count": 10,
      "outputs": [
        {
          "output_type": "execute_result",
          "data": {
            "text/plain": [
              "array([5., 4., 4., 5., 1., 5., 5., 1., 4., 5., 4., 4., 4., 5., 1., 4., 1.,\n",
              "       4., 1., 5., 5., 1., 1., 4., 1., 5., 4., 1., 1., 4., 1., 5., 1., 4.,\n",
              "       4., 1., 1., 1., 1., 1., 1., 1., 4., 1., 1., 5., 5., 5., 4., 4., 1.,\n",
              "       4., 1., 4., 1., 5., 1., 1., 5., 4., 4., 4., 4., 1., 4., 5., 4., 4.,\n",
              "       1., 1., 5., 5., 1., 5., 1., 5., 5., 4., 5., 4., 1., 1., 1., 1., 4.,\n",
              "       1., 4., 4., 5., 4., 1., 1., 1., 1., 5., 4., 5., 5., 4., 1., 5., 1.,\n",
              "       4., 4., 1., 1., 1., 4., 4., 5., 5., 4., 5., 5., 5., 1., 4., 1., 5.,\n",
              "       5., 1., 5., 1., 1., 5., 5., 4., 4., 1., 4., 4., 4., 1., 1., 4., 4.,\n",
              "       4., 5., 5., 1., 1., 4., 1., 4., 1., 4., 1., 4., 1., 4., 1., 5., 4.,\n",
              "       4., 5., 1., 4., 5., 5., 5., 1., 5., 4., 1., 1., 5., 5., 5., 4., 5.,\n",
              "       4., 4., 1., 4., 4., 4., 4., 5., 1., 5., 5., 1., 4., 4., 5., 1., 1.,\n",
              "       4., 5., 5., 5., 1., 4., 5., 5., 4., 1., 5., 5., 5., 1., 1., 5., 5.,\n",
              "       1., 1., 1., 4., 5., 5., 4., 4., 4., 5., 1., 4., 1., 4., 5., 4., 5.,\n",
              "       5., 1., 5., 1., 5., 5., 1., 4., 5., 5., 4., 1., 5., 1., 4., 1., 4.,\n",
              "       1., 1., 1., 1., 1., 1., 4., 1., 5., 4., 5., 1., 5., 1., 5., 4., 4.,\n",
              "       4., 4., 5., 5., 1., 4., 1., 5., 5., 1., 4., 1., 1., 4., 4., 4., 4.,\n",
              "       1., 4., 1., 1., 4., 1., 5., 4., 1., 1., 5., 4., 5., 4., 4., 4., 1.,\n",
              "       5., 5., 1., 4., 5., 4., 4., 4., 1., 4., 1., 4., 4., 4., 5., 1., 1.,\n",
              "       1., 4., 5., 5., 1., 5., 4., 5., 5., 4., 1., 1., 5., 5., 5., 1., 4.,\n",
              "       5., 4., 5., 5., 5., 1., 4., 1., 5.])"
            ]
          },
          "metadata": {},
          "execution_count": 10
        }
      ]
    },
    {
      "cell_type": "code",
      "source": [
        "promoters_count = len(promoters_scores)\n",
        "promoters_count"
      ],
      "metadata": {
        "colab": {
          "base_uri": "https://localhost:8080/"
        },
        "id": "ZFPxOf90wPkT",
        "outputId": "c5fcca03-b9df-45e4-e531-5d01929d7db4"
      },
      "execution_count": 11,
      "outputs": [
        {
          "output_type": "execute_result",
          "data": {
            "text/plain": [
              "609"
            ]
          },
          "metadata": {},
          "execution_count": 11
        }
      ]
    },
    {
      "cell_type": "code",
      "source": [
        "detractors_count = len(detractors_scores)\n",
        "detractors_count"
      ],
      "metadata": {
        "colab": {
          "base_uri": "https://localhost:8080/"
        },
        "id": "A2Y8lvfcwcSi",
        "outputId": "66e480bc-44db-4e9a-facc-626e30a5f195"
      },
      "execution_count": 12,
      "outputs": [
        {
          "output_type": "execute_result",
          "data": {
            "text/plain": [
              "332"
            ]
          },
          "metadata": {},
          "execution_count": 12
        }
      ]
    },
    {
      "cell_type": "code",
      "source": [
        "total_count = len(scores)\n",
        "total_count"
      ],
      "metadata": {
        "colab": {
          "base_uri": "https://localhost:8080/"
        },
        "id": "D7ZIYpzcwcwD",
        "outputId": "f2ff4620-54fa-43da-e32c-be75a0d3a8f0"
      },
      "execution_count": 13,
      "outputs": [
        {
          "output_type": "execute_result",
          "data": {
            "text/plain": [
              "1167"
            ]
          },
          "metadata": {},
          "execution_count": 13
        }
      ]
    },
    {
      "cell_type": "code",
      "source": [
        "percent_promoters = (promoters_count/total_count) * 100\n"
      ],
      "metadata": {
        "id": "kLyKpiB_wmV2"
      },
      "execution_count": 14,
      "outputs": []
    },
    {
      "cell_type": "code",
      "source": [
        "percent_detractors = (detractors_count/total_count) * 100\n"
      ],
      "metadata": {
        "id": "4xyV82wQws_4"
      },
      "execution_count": 15,
      "outputs": []
    },
    {
      "cell_type": "code",
      "source": [
        "nps = percent_promoters - percent_detractors\n"
      ],
      "metadata": {
        "id": "wfNuJF-Nw4qp"
      },
      "execution_count": 17,
      "outputs": []
    },
    {
      "cell_type": "code",
      "source": [
        "round(nps, 2)"
      ],
      "metadata": {
        "colab": {
          "base_uri": "https://localhost:8080/"
        },
        "id": "v0K8iDDWw9u3",
        "outputId": "13873795-2e44-4462-aaa8-500a999a83b6"
      },
      "execution_count": 18,
      "outputs": [
        {
          "output_type": "execute_result",
          "data": {
            "text/plain": [
              "23.74"
            ]
          },
          "metadata": {},
          "execution_count": 18
        }
      ]
    },
    {
      "cell_type": "markdown",
      "source": [
        "\n",
        "\n",
        "<img src=\"https://drive.google.com/uc?id=1FYgRM2XmJs4Rv-l8CCUn_aXcyw7GfZlp\">\n",
        "\n",
        "\n"
      ],
      "metadata": {
        "id": "kA-rpa073cjt"
      }
    },
    {
      "cell_type": "markdown",
      "source": [
        "After referring above range of NPS scores we can conculde that this sample data has GOOD NPS score, also NPS score depends on the category of an organisation/industry.\n",
        "Please see below attachment for reference"
      ],
      "metadata": {
        "id": "2IqdIUgQxbgy"
      }
    },
    {
      "cell_type": "markdown",
      "source": [
        "\n",
        "\n",
        "<img src=\"https://drive.google.com/uc?id=1vyRFRpHMC7LJ6MNB_K7Mih7pR_m7t-_A\">\n"
      ],
      "metadata": {
        "id": "fGg_ka5m3omi"
      }
    }
  ]
}